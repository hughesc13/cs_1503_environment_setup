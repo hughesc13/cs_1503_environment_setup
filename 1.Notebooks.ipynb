{
 "cells": [
  {
   "cell_type": "markdown",
   "id": "3e4b2136",
   "metadata": {},
   "source": [
    "# Learning Notebooks"
   ]
  },
  {
   "cell_type": "code",
   "execution_count": 3,
   "id": "307429d4",
   "metadata": {},
   "outputs": [],
   "source": [
    "list = [\"Claire\", \"1/19/2024\"]"
   ]
  },
  {
   "cell_type": "markdown",
   "id": "872eee1f",
   "metadata": {},
   "source": [
    "## Markdown Exercise"
   ]
  },
  {
   "cell_type": "markdown",
   "id": "3de3a4e5",
   "metadata": {},
   "source": [
    " I'm interested in machine learning because it is very **relevant** *today*. I'd like to \n",
    " 1. learn python better \n",
    " * understand ML better \n",
    " * practice using ML in programs"
   ]
  },
  {
   "cell_type": "markdown",
   "id": "5f3b830d",
   "metadata": {},
   "source": [
    "![alt text](https://giphy.com/gifs/tlc-network-tlc-my-big-fat-fabulous-life-QxSSrQxSKaFECD7ywx \"girl in dress eating cake\")"
   ]
  },
  {
   "cell_type": "markdown",
   "id": "656d60dd",
   "metadata": {},
   "source": [
    "## Jupyter Notebook Exercises"
   ]
  },
  {
   "cell_type": "code",
   "execution_count": 1,
   "id": "e64d89dd",
   "metadata": {},
   "outputs": [
    {
     "name": "stdout",
     "output_type": "stream",
     "text": [
      "What is your name? Claire\n",
      "Hello Claire !\n"
     ]
    }
   ],
   "source": [
    "name = input(prompt=\"What is your name? \")\n",
    "print(\"Hello\", name, \"!\")"
   ]
  }
 ],
 "metadata": {
  "kernelspec": {
   "display_name": "Python 3 (ipykernel)",
   "language": "python",
   "name": "python3"
  },
  "language_info": {
   "codemirror_mode": {
    "name": "ipython",
    "version": 3
   },
   "file_extension": ".py",
   "mimetype": "text/x-python",
   "name": "python",
   "nbconvert_exporter": "python",
   "pygments_lexer": "ipython3",
   "version": "3.11.3"
  }
 },
 "nbformat": 4,
 "nbformat_minor": 5
}
